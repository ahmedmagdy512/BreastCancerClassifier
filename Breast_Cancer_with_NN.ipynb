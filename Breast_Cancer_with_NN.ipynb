{
  "nbformat": 4,
  "nbformat_minor": 0,
  "metadata": {
    "kernelspec": {
      "display_name": "Python 3",
      "language": "python",
      "name": "python3"
    },
    "language_info": {
      "codemirror_mode": {
        "name": "ipython",
        "version": 3
      },
      "file_extension": ".py",
      "mimetype": "text/x-python",
      "name": "python",
      "nbconvert_exporter": "python",
      "pygments_lexer": "ipython3",
      "version": "3.7.3"
    },
    "colab": {
      "name": "Breast Cancer with NN.ipynb",
      "provenance": [],
      "include_colab_link": true
    }
  },
  "cells": [
    {
      "cell_type": "markdown",
      "metadata": {
        "id": "view-in-github",
        "colab_type": "text"
      },
      "source": [
        "<a href=\"https://colab.research.google.com/github/ahmedmagdy512/BreastCancerClassifier/blob/master/Breast_Cancer_with_NN.ipynb\" target=\"_parent\"><img src=\"https://colab.research.google.com/assets/colab-badge.svg\" alt=\"Open In Colab\"/></a>"
      ]
    },
    {
      "cell_type": "code",
      "metadata": {
        "id": "-uUid4Dr58ND",
        "colab_type": "code",
        "colab": {
          "base_uri": "https://localhost:8080/",
          "height": 51
        },
        "outputId": "05a96299-8e01-4e78-cbe4-8cc7ebd2d316"
      },
      "source": [
        "from sklearn.datasets import load_breast_cancer\n",
        "from sklearn.pipeline import Pipeline\n",
        "from sklearn.svm import SVC\n",
        "from sklearn.decomposition import PCA\n",
        "from sklearn.impute import SimpleImputer\n",
        "from sklearn.preprocessing import StandardScaler\n",
        "from sklearn.pipeline import FeatureUnion\n",
        "from sklearn.naive_bayes import GaussianNB\n",
        "import numpy as np\n",
        "from sklearn.model_selection import train_test_split\n",
        "from sklearn import metrics\n",
        "dat = load_breast_cancer()\n",
        "X = dat.data\n",
        "Y = dat.target\n",
        "print(\"Examples = \",X.shape ,\" Labels = \", Y.shape)\n",
        "X_train, X_test, y_train, y_test = train_test_split(X, Y, test_size = \n",
        "                                                    0.3, random_state=100)\n",
        "model_pipeline = Pipeline(steps=[\n",
        "  (\"feature_union\", FeatureUnion([\n",
        "    ('missing_values',SimpleImputer(missing_values=np.nan, strategy='mean')),\n",
        "    ('scale', StandardScaler()),\n",
        "    (\"reduce_dim\", PCA(n_components=10)),\n",
        "  ])),\n",
        "  ('clf', GaussianNB()) ])\n",
        "model_pipeline.fit(X_train, y_train)\n",
        "predictions = model_pipeline.predict(X_test)\n",
        "print(\" Accuracy :\",metrics.accuracy_score(y_test, predictions))"
      ],
      "execution_count": null,
      "outputs": [
        {
          "output_type": "stream",
          "text": [
            "Examples =  (569, 30)  Labels =  (569,)\n",
            " Accuracy : 0.9298245614035088\n"
          ],
          "name": "stdout"
        }
      ]
    },
    {
      "cell_type": "code",
      "metadata": {
        "id": "DhTt7Uh658NM",
        "colab_type": "code",
        "colab": {}
      },
      "source": [
        "import os\n",
        "import numpy as np\n",
        "import pandas as pd \n",
        "import random\n",
        "import cv2\n",
        "import matplotlib.pyplot as plt\n",
        "%matplotlib inline\n",
        "from keras.models import Model, Sequential\n",
        "from keras.layers import Input, Dense, Flatten, Dropout, BatchNormalization\n",
        "import tensorflow as tf\n",
        "from keras.callbacks import ModelCheckpoint"
      ],
      "execution_count": null,
      "outputs": []
    },
    {
      "cell_type": "code",
      "metadata": {
        "id": "Dwfsxak_58Nd",
        "colab_type": "code",
        "colab": {},
        "outputId": "f5a1fee1-4dae-4c93-8fb1-929ecf8bd3c4"
      },
      "source": [
        "print(X_train.shape)\n",
        "print(X_train[0])"
      ],
      "execution_count": null,
      "outputs": [
        {
          "output_type": "stream",
          "text": [
            "(398, 30)\n",
            "[1.981e+01 2.215e+01 1.300e+02 1.260e+03 9.831e-02 1.027e-01 1.479e-01\n",
            " 9.498e-02 1.582e-01 5.395e-02 7.582e-01 1.017e+00 5.865e+00 1.124e+02\n",
            " 6.494e-03 1.893e-02 3.391e-02 1.521e-02 1.356e-02 1.997e-03 2.732e+01\n",
            " 3.088e+01 1.868e+02 2.398e+03 1.512e-01 3.150e-01 5.372e-01 2.388e-01\n",
            " 2.768e-01 7.615e-02]\n"
          ],
          "name": "stdout"
        }
      ]
    },
    {
      "cell_type": "code",
      "metadata": {
        "id": "ndnvZ9-K58Nj",
        "colab_type": "code",
        "colab": {},
        "outputId": "bac4f4ce-fd84-4310-8788-5f1c1f0181ed"
      },
      "source": [
        "model = Sequential()\n",
        "model.add(Dense(1024,activation='relu'))\n",
        "model.add(Dense(32,activation='relu'))\n",
        "model.add(Dense(1,activation='sigmoid'))\n",
        "model.compile(metrics=['accuracy'],optimizer='adam',loss='binary_crossentropy')\n",
        "checkPoint=ModelCheckpoint('bestweights.h5',monitor='val_accuracy',save_best_only=True,save_weights_only=True)\n",
        "history=model.fit(X_train,y_train,validation_data=(X_test,y_test),epochs=20,callbacks=[checkPoint])\n"
      ],
      "execution_count": null,
      "outputs": [
        {
          "output_type": "stream",
          "text": [
            "Train on 398 samples, validate on 171 samples\n",
            "Epoch 1/20\n",
            "398/398 [==============================] - 0s 330us/step - loss: 7.3569 - accuracy: 0.5879 - val_loss: 1.4374 - val_accuracy: 0.6199\n",
            "Epoch 2/20\n",
            "398/398 [==============================] - 0s 77us/step - loss: 1.5620 - accuracy: 0.7839 - val_loss: 1.9125 - val_accuracy: 0.8129\n",
            "Epoch 3/20\n",
            "398/398 [==============================] - 0s 79us/step - loss: 1.1942 - accuracy: 0.8216 - val_loss: 0.5648 - val_accuracy: 0.8246\n",
            "Epoch 4/20\n",
            "398/398 [==============================] - 0s 73us/step - loss: 0.3678 - accuracy: 0.9045 - val_loss: 0.6042 - val_accuracy: 0.9064\n",
            "Epoch 5/20\n",
            "398/398 [==============================] - 0s 89us/step - loss: 0.6902 - accuracy: 0.8744 - val_loss: 0.6196 - val_accuracy: 0.8187\n",
            "Epoch 6/20\n",
            "398/398 [==============================] - 0s 83us/step - loss: 0.4106 - accuracy: 0.9020 - val_loss: 0.2909 - val_accuracy: 0.9298\n",
            "Epoch 7/20\n",
            "398/398 [==============================] - 0s 76us/step - loss: 0.3328 - accuracy: 0.9146 - val_loss: 0.2816 - val_accuracy: 0.9298\n",
            "Epoch 8/20\n",
            "398/398 [==============================] - 0s 89us/step - loss: 0.4930 - accuracy: 0.8894 - val_loss: 0.4585 - val_accuracy: 0.8655\n",
            "Epoch 9/20\n",
            "398/398 [==============================] - 0s 84us/step - loss: 0.3276 - accuracy: 0.9070 - val_loss: 0.2795 - val_accuracy: 0.9064\n",
            "Epoch 10/20\n",
            "398/398 [==============================] - 0s 84us/step - loss: 0.3842 - accuracy: 0.9045 - val_loss: 0.7436 - val_accuracy: 0.7719\n",
            "Epoch 11/20\n",
            "398/398 [==============================] - 0s 89us/step - loss: 0.6973 - accuracy: 0.8492 - val_loss: 1.4558 - val_accuracy: 0.6433\n",
            "Epoch 12/20\n",
            "398/398 [==============================] - 0s 88us/step - loss: 1.0516 - accuracy: 0.8492 - val_loss: 0.4225 - val_accuracy: 0.9298\n",
            "Epoch 13/20\n",
            "398/398 [==============================] - 0s 89us/step - loss: 0.6640 - accuracy: 0.8518 - val_loss: 0.4140 - val_accuracy: 0.9298\n",
            "Epoch 14/20\n",
            "398/398 [==============================] - 0s 88us/step - loss: 0.4402 - accuracy: 0.9095 - val_loss: 0.2539 - val_accuracy: 0.9357\n",
            "Epoch 15/20\n",
            "398/398 [==============================] - 0s 77us/step - loss: 0.3693 - accuracy: 0.9045 - val_loss: 1.8995 - val_accuracy: 0.6023\n",
            "Epoch 16/20\n",
            "398/398 [==============================] - 0s 88us/step - loss: 1.1004 - accuracy: 0.8065 - val_loss: 0.2436 - val_accuracy: 0.9298\n",
            "Epoch 17/20\n",
            "398/398 [==============================] - 0s 88us/step - loss: 0.7826 - accuracy: 0.8543 - val_loss: 2.0936 - val_accuracy: 0.7895\n",
            "Epoch 18/20\n",
            "398/398 [==============================] - 0s 93us/step - loss: 0.7615 - accuracy: 0.8744 - val_loss: 0.3721 - val_accuracy: 0.9181\n",
            "Epoch 19/20\n",
            "398/398 [==============================] - 0s 78us/step - loss: 0.4386 - accuracy: 0.9020 - val_loss: 0.2399 - val_accuracy: 0.9240\n",
            "Epoch 20/20\n",
            "398/398 [==============================] - 0s 89us/step - loss: 0.4871 - accuracy: 0.8945 - val_loss: 0.2405 - val_accuracy: 0.9415\n"
          ],
          "name": "stdout"
        }
      ]
    },
    {
      "cell_type": "code",
      "metadata": {
        "id": "N5ZDXdnq58Nn",
        "colab_type": "code",
        "colab": {},
        "outputId": "56156dca-1ee1-4d0b-e0b5-0a0beee50eb3"
      },
      "source": [
        "import matplotlib.pyplot as plt\n",
        "fig ,ax=plt.subplots(1,2,figsize=(12,5))\n",
        "ax.ravel()\n",
        "for i, met in enumerate(['accuracy', 'loss']):\n",
        "    ax[i].plot(history.history[met])\n",
        "    ax[i].plot(history.history['val_' + met])\n",
        "    ax[i].set_title('Model {}'.format(met))\n",
        "    ax[i].set_xlabel('epochs')\n",
        "    ax[i].set_ylabel(met)\n",
        "    ax[i].legend(['train', 'val'])\n",
        "\n",
        "plt.show()"
      ],
      "execution_count": null,
      "outputs": [
        {
          "output_type": "display_data",
          "data": {
            "image/png": "[encoded data removed]",
            "text/plain": [
              "<Figure size 864x360 with 2 Axes>"
            ]
          },
          "metadata": {
            "tags": [],
            "needs_background": "light"
          }
        }
      ]
    },
    {
      "cell_type": "code",
      "metadata": {
        "id": "uxoZnD5i58Nq",
        "colab_type": "code",
        "colab": {},
        "outputId": "68a72190-cf71-4447-a6bf-b892b8d1699a"
      },
      "source": [
        "from sklearn.metrics import confusion_matrix,accuracy_score\n",
        "preds=model.predict(X_test)\n",
        "accuracy=accuracy_score(y_test,np.round(preds))\n",
        "print(round(accuracy*100,4),'%')"
      ],
      "execution_count": null,
      "outputs": [
        {
          "output_type": "stream",
          "text": [
            "94.152 %\n"
          ],
          "name": "stdout"
        }
      ]
    },
    {
      "cell_type": "code",
      "metadata": {
        "id": "QXsuNQRe58Nu",
        "colab_type": "code",
        "colab": {},
        "outputId": "55ced20c-88c5-4231-b259-d1e84529864f"
      },
      "source": [
        "\"\"\"\n",
        "@author: hichem felouat\n",
        "\"\"\"\n",
        "from sklearn import datasets\n",
        "from sklearn.model_selection import train_test_split\n",
        "from sklearn import svm\n",
        "from sklearn import metrics\n",
        "from sklearn.decomposition import PCA\n",
        "\n",
        "dat = datasets.load_breast_cancer()\n",
        "X = dat.data\n",
        "Y = dat.target\n",
        "print(\"Examples = \",X.shape ,\" Labels = \", Y.shape)\n",
        "\n",
        "pca = PCA(n_components = 5)\n",
        "X_pca = pca.fit_transform(X)\n",
        "print(\"Examples = \",X_pca.shape ,\" Labels = \", Y.shape)\n",
        "\n",
        "X_train, X_test, Y_train, Y_test = train_test_split(X, \n",
        "              Y, test_size= 0.20, random_state=100)\n",
        "\n",
        "X_train_pca, X_test_pca, Y_train_pca, Y_test_pca = train_test_split(X_pca, \n",
        "              Y, test_size= 0.20, random_state=100)\n",
        "\n",
        "clf = svm.SVC(kernel='rbf', gamma= 0.001, C=5)\n",
        "clf.fit(X_train, Y_train)\n",
        "y_pred1 = clf.predict(X_test)\n",
        "print(\" Accuracy     :\",metrics.accuracy_score(Y_test, y_pred1))\n",
        "\n",
        "clf_pca = svm.SVC(kernel='rbf', gamma= 0.001, C=5)\n",
        "clf_pca.fit(X_train_pca, Y_train_pca)\n",
        "y_pred_pca = clf_pca.predict(X_test_pca)\n",
        "print(\" Accuracy pca :\",metrics.accuracy_score(Y_test_pca, y_pred_pca))\n",
        "\n",
        "\n",
        "\n",
        "\n",
        "\n",
        "\n",
        "\n",
        "\n"
      ],
      "execution_count": null,
      "outputs": [
        {
          "output_type": "stream",
          "text": [
            "Examples =  (569, 30)  Labels =  (569,)\n",
            "Examples =  (569, 5)  Labels =  (569,)\n",
            " Accuracy     : 0.9210526315789473\n",
            " Accuracy pca : 0.9210526315789473\n"
          ],
          "name": "stdout"
        }
      ]
    },
    {
      "cell_type": "code",
      "metadata": {
        "id": "xHYR9Tmw58N1",
        "colab_type": "code",
        "colab": {}
      },
      "source": [
        ""
      ],
      "execution_count": null,
      "outputs": []
    }
  ]
}